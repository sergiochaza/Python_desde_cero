{
  "cells": [
    {
      "cell_type": "markdown",
      "metadata": {
        "id": "view-in-github",
        "colab_type": "text"
      },
      "source": [
        "<a href=\"https://colab.research.google.com/github/sergiochaza/Python_desde_cero/blob/main/Ejercicios_Python_Datos_Simples.ipynb\" target=\"_parent\"><img src=\"https://colab.research.google.com/assets/colab-badge.svg\" alt=\"Open In Colab\"/></a>"
      ]
    },
    {
      "cell_type": "markdown",
      "metadata": {
        "id": "qbJnXux9nmLI"
      },
      "source": [
        "## Ejercicio\n",
        "Escribir un programa que muestre por pantalla la frase `¡Hola mundo!`"
      ]
    },
    {
      "cell_type": "markdown",
      "metadata": {
        "id": "pTq_vhgynmLQ"
      },
      "source": [
        "## Solución"
      ]
    },
    {
      "cell_type": "code",
      "execution_count": null,
      "metadata": {
        "id": "Jg-8D1irnmLR",
        "outputId": "b1157698-f1bb-41f9-8394-f7798aa4e393"
      },
      "outputs": [
        {
          "name": "stdout",
          "output_type": "stream",
          "text": [
            "¡Hola Mundo!\n"
          ]
        }
      ],
      "source": [
        "print(\"¡Hola Mundo!\")"
      ]
    },
    {
      "cell_type": "markdown",
      "source": [
        "escribir un programa que almacene la cadena **Hola Mundo** en una variable y luego muestre por pantalla el contenido de la variable"
      ],
      "metadata": {
        "id": "kaki7g9knqPV"
      }
    },
    {
      "cell_type": "code",
      "source": [
        "saludo = \"¡Hola Mundo!\"\n",
        "print(saludo)"
      ],
      "metadata": {
        "colab": {
          "base_uri": "https://localhost:8080/"
        },
        "id": "kYaZoQh-oHCd",
        "outputId": "d180a33c-7f20-43c4-f11a-01c00b29ef2b"
      },
      "execution_count": null,
      "outputs": [
        {
          "output_type": "stream",
          "name": "stdout",
          "text": [
            "¡Hola Mundo!\n"
          ]
        }
      ]
    },
    {
      "cell_type": "markdown",
      "source": [
        "Escribir un programa que pregunte el nombre del usuario en la consola y después de que el usuario lo introduzca muestre por pantalla la cadena ¡Hola <nombre>!, donde <nombre> es el nombre que el usuario haya introducido.\n",
        "\n",
        "\n"
      ],
      "metadata": {
        "id": "ER2yOYcYpWcj"
      }
    },
    {
      "cell_type": "code",
      "source": [
        "nombre = input(\"Cual es tu nombre? \")\n",
        "print(\"Hola \" + nombre + \"!\")"
      ],
      "metadata": {
        "colab": {
          "base_uri": "https://localhost:8080/"
        },
        "id": "3VTJuQ02oMtJ",
        "outputId": "e3d2161a-2987-4681-deae-d6083a41ea88"
      },
      "execution_count": null,
      "outputs": [
        {
          "output_type": "stream",
          "name": "stdout",
          "text": [
            "Cual es tu nombre? Sergio\n",
            "Hola Sergio!\n"
          ]
        }
      ]
    },
    {
      "cell_type": "markdown",
      "source": [
        "Escribir un programa que muestre por pantalla el resultado de la siguiente operación aritmética\n",
        "![image.png](data:image/png;base64,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)\n",
        "."
      ],
      "metadata": {
        "id": "umTJUVO_pgbQ"
      }
    },
    {
      "cell_type": "code",
      "source": [
        "caculo =((3+2)/(2-5))**2\n",
        "print(caculo)"
      ],
      "metadata": {
        "colab": {
          "base_uri": "https://localhost:8080/"
        },
        "id": "JxBnLNoRpbvP",
        "outputId": "a5f7410a-8cbb-4d0f-d445-e9dbcf78a2fd"
      },
      "execution_count": null,
      "outputs": [
        {
          "output_type": "stream",
          "name": "stdout",
          "text": [
            "2.777777777777778\n"
          ]
        }
      ]
    },
    {
      "cell_type": "markdown",
      "source": [
        "Escribir un programa que pregunte al usuario por el número de horas trabajadas y el coste por hora. Después debe mostrar por pantalla la paga que le corresponde.\n",
        "\n",
        "\n"
      ],
      "metadata": {
        "id": "6wjvL_WSqmUW"
      }
    },
    {
      "cell_type": "code",
      "source": [
        "horas_trabajo = int(input(\"Ingrese sus horas trabajadas: \"))\n",
        "coste_hora = 5500\n",
        "paga = horas_trabajo * coste_hora\n",
        "print(f\"Su Paga es: {paga}\")"
      ],
      "metadata": {
        "colab": {
          "base_uri": "https://localhost:8080/"
        },
        "id": "lzT9SYrLpuO-",
        "outputId": "74dcbf84-5fea-4056-d1b7-8a5e716c12a7"
      },
      "execution_count": null,
      "outputs": [
        {
          "output_type": "stream",
          "name": "stdout",
          "text": [
            "Ingrese sus horas trabajadas: 96\n",
            "Su Paga es: 528000\n"
          ]
        }
      ]
    },
    {
      "cell_type": "markdown",
      "source": [
        "Escribir un programa que lea un entero positivo,\n",
        ", introducido por el usuario y después muestre en pantalla la suma de todos los enteros desde 1 hasta\n",
        ". La suma de los\n",
        " primeros enteros positivos puede ser calculada de la siguiente forma:"
      ],
      "metadata": {
        "id": "ZB4xXJgYrJCM"
      }
    },
    {
      "cell_type": "code",
      "source": [
        "entero =  int(input(\"Ingrese su número entero positivo: \"))\n",
        "calculo = entero * (entero + 1) / 2\n",
        "print(f\"El Calculo es: {calculo} \")"
      ],
      "metadata": {
        "colab": {
          "base_uri": "https://localhost:8080/"
        },
        "id": "4xWiDnt1rans",
        "outputId": "23f17c91-c114-4170-e524-9f8f743a97fc"
      },
      "execution_count": null,
      "outputs": [
        {
          "output_type": "stream",
          "name": "stdout",
          "text": [
            "Ingrese su número entero positivo: 2\n",
            "El Calculo es: 3.0 \n"
          ]
        }
      ]
    },
    {
      "cell_type": "markdown",
      "source": [
        "Escribir un programa que pida al usuario su peso (en kg) y estatura (en metros), calcule el índice de masa corporal y lo almacene en una variable, y muestre por pantalla la frase Tu índice de masa corporal es <imc> donde <imc> es el índice de masa corporal calculado redondeado con dos decimales."
      ],
      "metadata": {
        "id": "Bu840xzfsfJT"
      }
    },
    {
      "cell_type": "code",
      "source": [
        "peso = float(input(\"Ingrese su peso en kg: \"))\n",
        "altura = float(input(\"Ingrese su altura en metros: \"))\n",
        "imc = round(peso / altura**2,2)\n",
        "print(f\"Tu índice de masa corporal es: {imc}\")\n",
        "#"
      ],
      "metadata": {
        "colab": {
          "base_uri": "https://localhost:8080/"
        },
        "id": "CrSa5TXYswkt",
        "outputId": "c507f1e8-566d-4462-9c82-59d776109c6a"
      },
      "execution_count": null,
      "outputs": [
        {
          "output_type": "stream",
          "name": "stdout",
          "text": [
            "Ingrese su peso en kg: 140\n",
            "Ingrese su altura en metros: 1.80\n",
            "Tu índice de masa corporal es: 43.21\n"
          ]
        }
      ]
    },
    {
      "cell_type": "markdown",
      "source": [
        "Escribir un programa que pida al usuario dos números enteros y muestre por pantalla la <n> entre <m> da un cociente <c> y un resto <r> donde <n> y <m> son los números introducidos por el usuario, y <c> y <r> son el cociente y el resto de la división entera respectivamente."
      ],
      "metadata": {
        "id": "_FBmYJQ9t-bN"
      }
    },
    {
      "cell_type": "code",
      "source": [
        "number_1 = int(input(\"Ingrese un número entero: \"))\n",
        "number_2 = int(input(\"Ingrese otro número entero: \"))\n",
        "cociente = number_1 / number_2\n",
        "resto = number_1 % number_2\n",
        "print(f\"la divisió entre {number_1} y {number_2} da un cociente {cociente} y un resto de {resto}, donde {number_1} y {number_2} son los números introducidos por el usuario y {cociente} y {resto} son el cociente y el resto de la división entera respectivamente\")"
      ],
      "metadata": {
        "colab": {
          "base_uri": "https://localhost:8080/"
        },
        "id": "HbDYvUVzt-Gp",
        "outputId": "41f4b922-ca3c-4dc1-8acf-ce9570426f58"
      },
      "execution_count": null,
      "outputs": [
        {
          "output_type": "stream",
          "name": "stdout",
          "text": [
            "Ingrese un número entero: 2\n",
            "Ingrese otro número entero: 2\n",
            "la divisió entre 2 y 2 da un cociente 1.0 y un resto de 0, donde 2 y 2 son los números introducidos por el usuario y 1.0 y 0 son el cociente y el resto de la división entera respectivamente\n"
          ]
        }
      ]
    },
    {
      "cell_type": "markdown",
      "source": [
        "Escribir un programa que pregunte al usuario una cantidad a invertir, el interés anual y el número de años, y muestre por pantalla el capital obtenido en la inversión."
      ],
      "metadata": {
        "id": "1ONTzzktwR3H"
      }
    },
    {
      "cell_type": "code",
      "source": [
        "capital = float(input(\"Ingrese su capital a invertir:\"))\n",
        "años_de_inversion = int(input(\"Ingrese los años que desea invertir: \"))\n",
        "interes_total = 22.50\n",
        "tasa_de_interes = (capital/interes_total) * 100\n",
        "capital_obtenido =  tasa_de_interes * años_de_inversion\n",
        "print(f\"Capital obtenido de la inversión: {capital_obtenido}\")"
      ],
      "metadata": {
        "colab": {
          "base_uri": "https://localhost:8080/"
        },
        "id": "W8Yo5-gjwqty",
        "outputId": "be21064c-110c-4820-c5b0-22344f628873"
      },
      "execution_count": null,
      "outputs": [
        {
          "output_type": "stream",
          "name": "stdout",
          "text": [
            "Ingrese su capital a invertir:3000000\n",
            "Ingrese los años que desea invertir: 9\n",
            "Capital obtenido de la inversión: 120000000.0\n"
          ]
        }
      ]
    },
    {
      "cell_type": "markdown",
      "source": [
        "Una juguetería tiene mucho éxito en dos de sus productos: payasos y muñecas. Suele hacer venta por correo y la empresa de logística les cobra por peso de cada paquete así que deben calcular el peso de los payasos y muñecas que saldrán en cada paquete a demanda. Cada payaso pesa 112 g y cada muñeca 75 g. Escribir un programa que lea el número de payasos y muñecas vendidos en el último pedido y calcule el peso total del paquete que será enviado"
      ],
      "metadata": {
        "id": "RSVIxWk6ytwL"
      }
    },
    {
      "cell_type": "code",
      "source": [
        "payaso_peso = 112\n",
        "muñeca_peso = 75\n",
        "pedido_1 = int(input(\"Ingrese el número de payasos vendidos: \"))\n",
        "pedido_2 = int(input(\"inrese el número de muñecas vendidas: \"))\n",
        "total = pedido_1 * payaso_peso + pedido_2 * muñeca_peso\n",
        "print(f\"El peso total del paquete es: {total} g\")"
      ],
      "metadata": {
        "colab": {
          "base_uri": "https://localhost:8080/"
        },
        "id": "YE2zScrmyWmp",
        "outputId": "9615bf83-a754-459f-f701-515c58be2077"
      },
      "execution_count": null,
      "outputs": [
        {
          "output_type": "stream",
          "name": "stdout",
          "text": [
            "Ingrese el número de payasos vendidos: 12\n",
            "inrese el número de muñecas vendidas: 6\n",
            "El peso total del paquete es: 1794 g\n"
          ]
        }
      ]
    },
    {
      "cell_type": "markdown",
      "source": [
        "Imagina que acabas de abrir una nueva cuenta de ahorros que te ofrece el 4% de interés al año. Estos ahorros debido a intereses, que no se cobran hasta finales de año, se te añaden al balance final de tu cuenta de ahorros. Escribir un programa que comience leyendo la cantidad de dinero depositada en la cuenta de ahorros, introducida por el usuario. Después el programa debe calcular y mostrar por pantalla la cantidad de ahorros tras el primer, segundo y tercer años. Redondear cada cantidad a dos decimales.\n"
      ],
      "metadata": {
        "id": "GvhRLjvQ02SX"
      }
    },
    {
      "cell_type": "code",
      "source": [
        "inversion = float(input(\"Introduce la inversión inicial: \"))\n",
        "interes = 0.04\n",
        "balance_1 = inversion * (1 + interes)\n",
        "print(\"Balance tras el primer año:\" + str(round(balance_1, 2)))\n",
        "balance_2 = balance_1 * (1 + interes)\n",
        "print(\"Balance tras el segundo año:\" + str(round(balance_2, 2)))\n",
        "balance_3 = balance_2 * (1 + interes)\n",
        "print(\"Balance tras el tercer año:\" + str(round(balance_3, 2)))"
      ],
      "metadata": {
        "colab": {
          "base_uri": "https://localhost:8080/"
        },
        "id": "6b7FLv3J2LrP",
        "outputId": "3036d844-cf82-4b1b-de8b-f45c1e3cf306"
      },
      "execution_count": null,
      "outputs": [
        {
          "output_type": "stream",
          "name": "stdout",
          "text": [
            "Introduce la inversión inicial: 200\n",
            "Balance tras el primer año:208.0\n",
            "Balance tras el segundo año:216.32\n",
            "Balance tras el tercer año:224.97\n"
          ]
        }
      ]
    }
  ],
  "metadata": {
    "kernelspec": {
      "display_name": "Python 3",
      "language": "python",
      "name": "python3"
    },
    "language_info": {
      "codemirror_mode": {
        "name": "ipython",
        "version": 3
      },
      "file_extension": ".py",
      "mimetype": "text/x-python",
      "name": "python",
      "nbconvert_exporter": "python",
      "pygments_lexer": "ipython3",
      "version": "3.7.1"
    },
    "colab": {
      "provenance": [],
      "name": "Ejercicios_Python_Datos_Simples",
      "include_colab_link": true
    }
  },
  "nbformat": 4,
  "nbformat_minor": 0
}